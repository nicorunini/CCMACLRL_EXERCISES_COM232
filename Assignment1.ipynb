{
  "nbformat": 4,
  "nbformat_minor": 0,
  "metadata": {
    "colab": {
      "provenance": [],
      "authorship_tag": "ABX9TyMLUF8DqZoPdc6Epiiwixdw",
      "include_colab_link": true
    },
    "kernelspec": {
      "name": "python3",
      "display_name": "Python 3"
    },
    "language_info": {
      "name": "python"
    }
  },
  "cells": [
    {
      "cell_type": "markdown",
      "metadata": {
        "id": "view-in-github",
        "colab_type": "text"
      },
      "source": [
        "<a href=\"https://colab.research.google.com/github/nicorunini/CCMACLRL_EXERCISES_COM232/blob/main/Assignment1.ipynb\" target=\"_parent\"><img src=\"https://colab.research.google.com/assets/colab-badge.svg\" alt=\"Open In Colab\"/></a>"
      ]
    },
    {
      "cell_type": "markdown",
      "source": [
        "# Assignment 1\n",
        "\n",
        "Using k-Nearest Neighbours, predict if a student will **Pass (1)** or **Fail (0)** based on:\n",
        "\n",
        "- $X_1$ = Hours Studied\n",
        "- $X_2$ = Sleep Hours\n",
        "\n",
        "---\n",
        "\n",
        "## Training Data (10 Students)\n",
        "\n",
        "| Student | Hours Studied $X_1$ | Sleep Hours $X_2$ | Pass/Fail (Y) |\n",
        "| ------- | ------------------- | ----------------- | ------------- |\n",
        "| 1       | 1.0                 | 5.0               | 0 (Fail)      |\n",
        "| 2       | 2.0                 | 5.5               | 0 (Fail)      |\n",
        "| 3       | 3.0                 | 6.0               | 0 (Fail)      |\n",
        "| 4       | 4.5                 | 5.0               | 0 (Fail)      |\n",
        "| 5       | 5.0                 | 6.5               | 1 (Pass)      |\n",
        "| 6       | 5.5                 | 7.0               | 1 (Pass)      |\n",
        "| 7       | 6.0                 | 6.0               | 1 (Pass)      |\n",
        "| 8       | 7.0                 | 7.0               | 1 (Pass)      |\n",
        "| 9       | 8.0                 | 6.0               | 1 (Pass)      |\n",
        "| 10      | 9.0                 | 7.5               | 1 (Pass)      |\n",
        "\n",
        "---\n",
        "\n",
        "## Task\n",
        "\n",
        "A new student studied **4 hours** and slept **6 hours**.  \n",
        "We want to predict whether they **Pass** or **Fail** using **KNN with k = 3**.\n",
        "\n",
        "---\n",
        "\n",
        "## 1. Plot all data points using a scatter plot (10 points)\n",
        "\n",
        "- Use a circle 🔵 for students who failed.\n",
        "- Use a square 🟥 for students who passed.\n",
        "- Use a star ⭐ for the unknown data point.\n",
        "\n",
        "\n",
        "\n"
      ],
      "metadata": {
        "id": "rdAPesqSBX5R"
      }
    },
    {
      "cell_type": "code",
      "execution_count": 1,
      "metadata": {
        "colab": {
          "base_uri": "https://localhost:8080/",
          "height": 472
        },
        "id": "J87HMt-tAoFf",
        "outputId": "d023ee19-bb73-4717-9e98-1b186b9f0c4f"
      },
      "outputs": [
        {
          "output_type": "display_data",
          "data": {
            "text/plain": [
              "<Figure size 640x480 with 1 Axes>"
            ],
            "image/png": "[encoded data removed]"
          },
          "metadata": {}
        }
      ],
      "source": [
        "import matplotlib.pyplot as plt\n",
        "\n",
        "# Dataset: [Hours Studied, Sleep Hours, Pass/Fail]\n",
        "students = [\n",
        "    [1.0, 5.0, 0],\n",
        "    [2.0, 5.5, 0],\n",
        "    [3.0, 6.0, 0],\n",
        "    [4.5, 5.0, 0],\n",
        "    [5.0, 6.5, 1],\n",
        "    [5.5, 7.0, 1],\n",
        "    [6.0, 6.0, 1],\n",
        "    [7.0, 7.0, 1],\n",
        "    [8.0, 6.0, 1],\n",
        "    [9.0, 7.5, 1]\n",
        "]\n",
        "\n",
        "\n",
        "new_student = [4.0, 6.0]\n",
        "\n",
        "\n",
        "fail_points = [s for s in students if s[2] == 0]\n",
        "pass_points = [s for s in students if s[2] == 1]\n",
        "\n",
        "\n",
        "plt.scatter([p[0] for p in fail_points], [p[1] for p in fail_points],\n",
        "            color='blue', marker='o', label='Fail (0)')\n",
        "\n",
        "plt.scatter([p[0] for p in pass_points], [p[1] for p in pass_points],\n",
        "            color='red', marker='s', label='Pass (1)')\n",
        "\n",
        "\n",
        "plt.scatter(new_student[0], new_student[1], color='gold', marker='*', s=200, label='New Student')\n",
        "\n",
        "\n",
        "plt.xlabel('Hours Studied (X1)')\n",
        "plt.ylabel('Sleep Hours (X2)')\n",
        "plt.title('KNN Classification (k=3)')\n",
        "plt.legend()\n",
        "plt.grid(True)\n",
        "\n",
        "\n",
        "plt.show()\n"
      ]
    },
    {
      "cell_type": "markdown",
      "source": [
        "\n",
        "## 2. Compute Distances (10 points)\n",
        "\n",
        "**Note:** Please show all solutions\n",
        "\n",
        "For the new student, compute the **Euclidean distance** from all data points:\n",
        "\n",
        "$$\n",
        "d = \\sqrt{(X_1 - 4)^2 + (X_2 - 6)^2}\n",
        "$$\n",
        "\n",
        "Fill in the table below:\n",
        "\n",
        "| Student | Hours Studied (X1) | Sleep Hours (X2) | Pass/Fail (Y) | Euclidean Distance |\n",
        "| ------- | ------------------ | ---------------- | ------------- | ------------------ |\n",
        "| 1       | 1.0                | 5.0              | 0             | 3.16                  |\n",
        "| 2       | 2.0                | 5.5              | 0             | 2.06               |\n",
        "| 3       | 3.0                | 6.0              | 0             | 1.00                 |\n",
        "| 4       | 4.5                | 5.0              | 0             | 1.12                |\n",
        "| 5       | 5.0                | 6.5              | 1             | 1.12                |\n",
        "| 6       | 5.5                | 7.0              | 1             | 1.80                  |\n",
        "| 7       | 6.0                | 6.0              | 1             | 2.00                  |\n",
        "| 8       | 7.0                | 7.0              | 1             | 3.16                  |\n",
        "| 9       | 8.0                | 6.0              | 1             | 4.00                  |\n",
        "| 10      | 9.0                | 7.5              | 1             | 5.22                  |\n"
      ],
      "metadata": {
        "id": "fI-Ul4USC6RV"
      }
    },
    {
      "cell_type": "markdown",
      "source": [
        "\n",
        "**Solution**\n",
        "\n",
        "1. **Student 1**: (1.0, 5.0): $\\sqrt{(1-4)^2 + (5-6)^2}$ = $\\sqrt{9 + 1}$ = $\\sqrt{10}$ = 3.16  \n",
        "2. **Student 2**: (2.0, 5.5): $\\sqrt{(2-4)^2 + (5.5-6)^2}$ = $\\sqrt{4 + 0.25}$ = $\\sqrt{4.25}$ = 2.06  \n",
        "3. **Student 3**: (3.0, 6.0): $\\sqrt{(3-4)^2 + (6-6)^2}$ = $\\sqrt{1 + 0}$ = $\\sqrt{1}$ = 1.00  \n",
        "4. **Student 4**: (4.5, 5.0): $\\sqrt{(4.5-4)^2 + (5-6)^2}$ = $\\sqrt{0.25 + 1}$ = $\\sqrt{1.25}$ = 1.12  \n",
        "5. **Student 5**: (5.0, 6.5): $\\sqrt{(5-4)^2 + (6.5-6)^2}$ = $\\sqrt{1 + 0.25}$ = $\\sqrt{1.25}$ = 1.12  \n",
        "6. **Student 6**: (5.5, 7.0): $\\sqrt{(5.5-4)^2 + (7-6)^2}$ = $\\sqrt{2.25 + 1}$ = $\\sqrt{3.25}$ = 1.80  \n",
        "7. **Student 7**: (6.0, 6.0): $\\sqrt{(6-4)^2 + (6-6)^2}$ = $\\sqrt{4 + 0}$ = $\\sqrt{4}$ = 2.00  \n",
        "8. **Student 8**: (7.0, 7.0): $\\sqrt{(7-4)^2 + (7-6)^2}$ = $\\sqrt{9 + 1}$ = $\\sqrt{10}$ = 3.16  \n",
        "9. **Student 9**: (8.0, 6.0): $\\sqrt{(8-4)^2 + (6-6)^2}$ = $\\sqrt{16 + 0}$ = $\\sqrt{16}$ = 4.00  \n",
        "10. **Student 10**: (9.0, 7.5): $\\sqrt{(9-4)^2 + (7.5-6)^2}$ = $\\sqrt{25 + 2.25}$ = $\\sqrt{27.25}$ = 5.22  \n"
      ],
      "metadata": {
        "id": "FtMBzYolGUkj"
      }
    },
    {
      "cell_type": "markdown",
      "source": [
        "## 2. Find the 3 Nearest Neighbors (3 points)\n",
        "\n",
        "- Highlight the rows with the **3 smallest distances**.\n",
        "\n",
        "| Student | Hours Studied (X1) | Sleep Hours (X2) | Pass/Fail (Y) | Euclidean Distance |\n",
        "| ------- | ------------------ | ---------------- | ------------- | ------------------ |\n",
        "| 1       | 1.0                | 5.0              | 0             | 3.16                  |\n",
        "| 2       | 2.0                | 5.5              | 0             | 2.06               |\n",
        "| 3       | 3.0                | 6.0              | 0             | 1.00                 |\n",
        "| 4       | 4.5                | 5.0              | 0             | 1.12                |\n",
        "| 5       | 5.0                | 6.5              | 1             | 1.12                |\n",
        "| 6       | 5.5                | 7.0              | 1             | 1.80                  |\n",
        "| 7       | 6.0                | 6.0              | 1             | 2.00                  |\n",
        "| 8       | 7.0                | 7.0              | 1             | 3.16                  |\n",
        "| 9       | 8.0                | 6.0              | 1             | 4.00                  |\n",
        "| 10      | 9.0                | 7.5              | 1             | 5.22                  |\n",
        "\n",
        "\n",
        "\n",
        "**Answer**\n",
        "\n",
        "\n",
        "| Student | Hours Studied (X1) | Sleep Hours (X2) | Pass/Fail (Y) | Euclidean Distance |\n",
        "| ------- | ------------------ | ---------------- | ------------- | ------------------ |\n",
        "| 3       | 3.0                | 6.0              | 0             | 1.00               |\n",
        "| 4       | 4.5                | 5.0              | 0             | 1.12                |\n",
        "| 5       | 5.0                | 6.5              | 1             | 1.12                |\n",
        "\n",
        "\n"
      ],
      "metadata": {
        "id": "oS06_wJxIPyT"
      }
    },
    {
      "cell_type": "markdown",
      "source": [
        "## 3. Majority Vote (2 points)\n",
        "\n",
        "- Count how many are **Pass (1)** and how many are **Fail (0)**.\n",
        "- Predict the outcome for the new student.\n",
        "\n",
        "\n",
        "\n",
        "| Student | Hours Studied (X1) | Sleep Hours (X2) | Pass/Fail (Y) | Euclidean Distance |\n",
        "| ------- | ------------------ | ---------------- | ------------- | ------------------ |\n",
        "| 3       | 3.0                | 6.0              | 0             | 1.00               |\n",
        "| 4       | 4.5                | 5.0              | 0             | 1.12                |\n",
        "| 5       | 5.0                | 6.5              | 1             | 1.12                |\n",
        "\n",
        "\n",
        "\n",
        "*  passed: 1\n",
        "*  failed: 2\n",
        "\n",
        "\n",
        "\n",
        "**Prediction:** A new student who studied 4 hours and slept 6 hours will **Fail** the exam.\n"
      ],
      "metadata": {
        "id": "ybqTVBv-Olwv"
      }
    },
    {
      "cell_type": "markdown",
      "source": [
        "\n",
        "---\n",
        "\n",
        "## 4. Discussion Questions (5 points)\n",
        "\n",
        "1. What was your final prediction?\n",
        "- the student will likely fail\n",
        "2. How would the prediction change if we used **k = 5** instead of **k = 3**?\n",
        "- **yes**, because in k=5 the majority of students passed, so likely the prediction will change to zccordingly."
      ],
      "metadata": {
        "id": "aB-nfDNzDAnI"
      }
    }
  ]
}