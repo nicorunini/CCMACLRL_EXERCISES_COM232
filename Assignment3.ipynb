{
  "nbformat": 4,
  "nbformat_minor": 0,
  "metadata": {
    "colab": {
      "provenance": [],
      "authorship_tag": "ABX9TyOoU8cy6SRuHbWJTh1woCN0",
      "include_colab_link": true
    },
    "kernelspec": {
      "name": "python3",
      "display_name": "Python 3"
    },
    "language_info": {
      "name": "python"
    }
  },
  "cells": [
    {
      "cell_type": "markdown",
      "metadata": {
        "id": "view-in-github",
        "colab_type": "text"
      },
      "source": [
        "<a href=\"https://colab.research.google.com/github/nicorunini/CCMACLRL_EXERCISES_COM232/blob/main/Assignment3.ipynb\" target=\"_parent\"><img src=\"https://colab.research.google.com/assets/colab-badge.svg\" alt=\"Open In Colab\"/></a>"
      ]
    },
    {
      "cell_type": "markdown",
      "source": [
        "# Assignment 3: Predicting Customer Purchase using Logistic Regression\n",
        "\n",
        "## Dataset\n",
        "\n",
        "| Customer | Time on site (x₁) | Pages viewed (x₂) | Purchase (y) |\n",
        "|----------|------------------:|-----------------:|-------------:|\n",
        "| A        | 1                 | 4                | 0            |\n",
        "| B        | 2                 | 3                | 0            |\n",
        "| C        | 3                 | 7                | 1            |\n",
        "| D        | 5                 | 2                | 1            |\n",
        "| E        | 6                 | 6                | 1            |\n",
        "\n",
        "\n",
        " ##\n",
        "  "
      ],
      "metadata": {
        "id": "dSXq4A7gowev"
      }
    },
    {
      "cell_type": "code",
      "source": [
        "import numpy as np\n",
        "\n",
        "# Dataset\n",
        "X = np.array([\n",
        "    [1, 4],\n",
        "    [2, 3],\n",
        "    [3, 7],\n",
        "    [5, 2],\n",
        "    [6, 6]\n",
        "])\n",
        "\n",
        "y = np.array([0, 0, 1, 1, 1])\n",
        "\n",
        "# Initial parameters\n",
        "w = np.array([0.8, 0.4])\n",
        "b = -4.0\n",
        "eta = 0.1  # learning rate\n",
        "\n",
        "# Sigmoid function\n",
        "def sigmoid(z):\n",
        "    return 1 / (1 + np.exp(-z))"
      ],
      "metadata": {
        "id": "vDhH3h46o08H"
      },
      "execution_count": 8,
      "outputs": []
    },
    {
      "cell_type": "markdown",
      "source": [
        "## 1. Compute Probabilities (5 points)\n",
        "\n",
        "| Customer | x₁ | x₂ | y | z = w·x + b | 𝑦̂ = σ(z) |\n",
        "|----------|----|----|---|-------------|------------|\n",
        "| A        | 1  | 4  | 0 | -1.6        | 0.167      |\n",
        "| B        | 2  | 3  | 0 | -1.2        | 0.231      |\n",
        "| C        | 3  | 7  | 1 | 1.2         | 0.768      |\n",
        "| D        | 5  | 2  | 1 | 0.8         | 0.690      |\n",
        "| E        | 6  | 6  | 1 | 3.2         | 0.961      |\n",
        "##"
      ],
      "metadata": {
        "id": "ZbrqLI3ZpAOu"
      }
    },
    {
      "cell_type": "code",
      "source": [
        "# Compute initial z and probabilities\n",
        "z = X.dot(w) + b\n",
        "y_hat = sigmoid(z)\n",
        "print(\"Initial z:\", z)\n",
        "print(\"Initial probabilities:\", y_hat)"
      ],
      "metadata": {
        "colab": {
          "base_uri": "https://localhost:8080/"
        },
        "id": "sM64muGDpOwM",
        "outputId": "8830eead-b1cf-4537-ce39-4a8ddc8e9492"
      },
      "execution_count": 9,
      "outputs": [
        {
          "output_type": "stream",
          "name": "stdout",
          "text": [
            "Initial z: [-1.6 -1.2  1.2  0.8  3.2]\n",
            "Initial probabilities: [0.16798161 0.23147522 0.76852478 0.68997448 0.96083428]\n"
          ]
        }
      ]
    },
    {
      "cell_type": "markdown",
      "source": [
        "Compute Average Loss (6 points)\n",
        "\n",
        "| Customer | y | 𝑦̂ | Loss |\n",
        "|----------|---|-----|------|\n",
        "| A        | 0 | 0.167 | 0.182 |\n",
        "| B        | 0 | 0.231 | 0.265 |\n",
        "| C        | 1 | 0.768 | 0.264 |\n",
        "| D        | 1 | 0.690 | 0.371 |\n",
        "| E        | 1 | 0.961 | 0.040 |\n",
        "\n",
        "**Average BCE Loss:** 0.224\n"
      ],
      "metadata": {
        "id": "movaMYEDpYb4"
      }
    },
    {
      "cell_type": "code",
      "source": [
        "# Compute BCE loss\n",
        "loss = - (y*np.log(y_hat) + (1-y)*np.log(1-y_hat))\n",
        "avg_loss = np.mean(loss)\n",
        "print(\"Loss per customer:\", loss)\n",
        "print(\"Average BCE loss:\", avg_loss)"
      ],
      "metadata": {
        "colab": {
          "base_uri": "https://localhost:8080/"
        },
        "id": "tsC-td90pb80",
        "outputId": "affe05a0-7560-4daa-88bd-f9957b3a8300"
      },
      "execution_count": 10,
      "outputs": [
        {
          "output_type": "stream",
          "name": "stdout",
          "text": [
            "Loss per customer: [0.18390074 0.26328247 0.26328247 0.37110067 0.03995333]\n",
            "Average BCE loss: 0.2243039349349218\n"
          ]
        }
      ]
    },
    {
      "cell_type": "markdown",
      "source": [
        "## 3. Update the slope and intercept using Gradient Descent (6 points)\n",
        "\n",
        "**Gradients:**\n",
        "\n",
        "- ∂L/∂m₁ = (1/N) Σ ((ŷ - y) * x₁) ≈ -0.370  \n",
        "- ∂L/∂m₂ = (1/N) Σ ((ŷ - y) * x₂) ≈ -0.223  \n",
        "- ∂L/∂b  = (1/N) Σ (ŷ - y) ≈ -0.037  \n",
        "\n",
        "**Updated Parameters (one step of gradient descent, η = 0.1):**\n",
        "\n",
        "- m₁_new = m₁ - η * ∂L/∂m₁ ≈ 0.837  \n",
        "- m₂_new = m₂ - η * ∂L/∂m₂ ≈ 0.422  \n",
        "- b_new  = b - η * ∂L/∂b  ≈ -3.996  \n",
        "\n",
        "**Summary Table:**\n",
        "\n",
        "| Parameter | Gradient | Updated Value |\n",
        "|-----------|----------|---------------|\n",
        "| m₁        | -0.370   | 0.837         |\n",
        "| m₂        | -0.223   | 0.422         |\n",
        "| b         | -0.037   | -3.996        |\n",
        "##"
      ],
      "metadata": {
        "id": "D5UhCGUVpp3N"
      }
    },
    {
      "cell_type": "code",
      "source": [
        "# Step 3: Gradients and parameter update\n",
        "\n",
        "# Gradients\n",
        "grad_w = np.mean((y_hat - y)[:, None] * X, axis=0)\n",
        "grad_b = np.mean(y_hat - y)\n",
        "\n",
        "# Update parameters\n",
        "w_new = w - eta * grad_w\n",
        "b_new = b - eta * grad_b\n",
        "\n",
        "# Print gradients and updated values\n",
        "print(\"Gradients:\")\n",
        "print(f\"∂L/∂m1 = {grad_w[0]:.3f}, ∂L/∂m2 = {grad_w[1]:.3f}, ∂L/∂b = {grad_b:.3f}\")\n",
        "print(\"Updated parameters:\")\n",
        "print(f\"m1_new = {w_new[0]:.3f}, m2_new = {w_new[1]:.3f}, b_new = {b_new:.3f}\")\n"
      ],
      "metadata": {
        "colab": {
          "base_uri": "https://localhost:8080/"
        },
        "id": "8viMXFIrp5Xa",
        "outputId": "d0856ce7-ed72-401c-8804-d469edaa5852"
      },
      "execution_count": 11,
      "outputs": [
        {
          "output_type": "stream",
          "name": "stdout",
          "text": [
            "Gradients:\n",
            "∂L/∂m1 = -0.370, ∂L/∂m2 = -0.222, ∂L/∂b = -0.036\n",
            "Updated parameters:\n",
            "m1_new = 0.837, m2_new = 0.422, b_new = -3.996\n"
          ]
        }
      ]
    },
    {
      "cell_type": "markdown",
      "source": [
        "## 4. Compute new probabilities using the new slopes and intercept (5 points)\n",
        "\n",
        "| Customer | x₁ | x₂ | y | z_new = w_new·x + b_new | new 𝑦̂ |\n",
        "|----------|----|----|---|-------------------------|---------|\n",
        "| A        | 1  | 4  | 0 | -1.471                  | 0.187   |\n",
        "| B        | 2  | 3  | 0 | -1.056                  | 0.258   |\n",
        "| C        | 3  | 7  | 1 | 1.469                   | 0.812   |\n",
        "| D        | 5  | 2  | 1 | 1.033                   | 0.737   |\n",
        "| E        | 6  | 6  | 1 | 3.558                   | 0.972   |\n"
      ],
      "metadata": {
        "id": "uj81yP2ep-Bd"
      }
    },
    {
      "cell_type": "code",
      "source": [
        "# Compute new probabilities\n",
        "z_new = X.dot(w_new) + b_new\n",
        "y_hat_new = sigmoid(z_new)\n",
        "print(\"New z:\", z_new)\n",
        "print(\"New probabilities:\", y_hat_new)"
      ],
      "metadata": {
        "colab": {
          "base_uri": "https://localhost:8080/"
        },
        "id": "DhHxy7eIqAjV",
        "outputId": "e46d2760-a354-486d-f8c6-e0654b34ee27"
      },
      "execution_count": 12,
      "outputs": [
        {
          "output_type": "stream",
          "name": "stdout",
          "text": [
            "New z: [-1.47068191 -1.05589     1.46980389  1.03284654  3.55854043]\n",
            "New probabilities: [0.18683899 0.25809566 0.81302758 0.73746738 0.97230831]\n"
          ]
        }
      ]
    },
    {
      "cell_type": "markdown",
      "source": [
        "## 5. Compute new Average Loss (6 points)\n",
        "\n",
        "| Customer | y | new 𝑦̂ | Loss_new |\n",
        "|----------|---|---------|----------|\n",
        "| A        | 0 | 0.187   | 0.206 |\n",
        "| B        | 0 | 0.258   | 0.297 |\n",
        "| C        | 1 | 0.812   | 0.208 |\n",
        "| D        | 1 | 0.737   | 0.306 |\n",
        "| E        | 1 | 0.972   | 0.028 |\n",
        "\n",
        "**New Average BCE Loss:** 0.209\n"
      ],
      "metadata": {
        "id": "KJ_Qa54RqHWd"
      }
    },
    {
      "cell_type": "code",
      "source": [
        "# Compute new BCE loss\n",
        "loss_new = - (y*np.log(y_hat_new) + (1-y)*np.log(1-y_hat_new))\n",
        "avg_loss_new = np.mean(loss_new)\n",
        "print(\"New loss per customer:\", loss_new)\n",
        "print(\"New average BCE loss:\", avg_loss_new)"
      ],
      "metadata": {
        "colab": {
          "base_uri": "https://localhost:8080/"
        },
        "id": "Yvv6nonzqJzi",
        "outputId": "22771ae8-c487-450d-d2be-69e74ce85548"
      },
      "execution_count": 13,
      "outputs": [
        {
          "output_type": "stream",
          "name": "stdout",
          "text": [
            "New loss per customer: [0.20682614 0.29853497 0.20699025 0.30453342 0.02808234]\n",
            "New average BCE loss: 0.2089934237451554\n"
          ]
        }
      ]
    }
  ]
}